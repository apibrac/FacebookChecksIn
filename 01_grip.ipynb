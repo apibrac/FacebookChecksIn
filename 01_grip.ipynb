{
 "cells": [
  {
   "cell_type": "code",
   "execution_count": 1,
   "metadata": {
    "collapsed": false
   },
   "outputs": [
    {
     "data": {
      "text/plain": [
       "'Import and first test with scikit'"
      ]
     },
     "execution_count": 1,
     "metadata": {},
     "output_type": "execute_result"
    }
   ],
   "source": [
    "'''Import and first test with scikit'''"
   ]
  },
  {
   "cell_type": "code",
   "execution_count": 336,
   "metadata": {
    "collapsed": false
   },
   "outputs": [],
   "source": [
    "#modules\n",
    "import csv\n",
    "import numpy as np\n",
    "from sklearn.neighbors import KNeighborsClassifier\n",
    "from sklearn.ensemble import RandomForestClassifier\n"
   ]
  },
  {
   "cell_type": "code",
   "execution_count": 3,
   "metadata": {
    "collapsed": true
   },
   "outputs": [],
   "source": [
    "#files\n",
    "folder='D:/IA/Kaggle/Facebook/'\n",
    "training=folder+'train.csv'\n",
    "small=folder+'cell.csv'"
   ]
  },
  {
   "cell_type": "code",
   "execution_count": 211,
   "metadata": {
    "collapsed": false
   },
   "outputs": [
    {
     "name": "stdout",
     "output_type": "stream",
     "text": [
      "['row_id', 'x', 'y', 'accuracy', 'time', 'place_id']\n",
      "(70890, 6)\n",
      "[  5.06000000e+02   7.45800000e-01   5.13320000e+00   1.48000000e+02\n",
      "   4.42772000e+05   1.06003099e+09]\n"
     ]
    }
   ],
   "source": [
    "#load data\n",
    "with open(training, 'r',newline='') as csvfile:\n",
    "    reader=csv.reader(csvfile)\n",
    "    print(reader.__next__())\n",
    "datab=np.loadtxt(small, delimiter=\",\",skiprows=1)\n",
    "print(datab.shape)\n",
    "print(datab[0])"
   ]
  },
  {
   "cell_type": "code",
   "execution_count": 230,
   "metadata": {
    "collapsed": false
   },
   "outputs": [
    {
     "name": "stdout",
     "output_type": "stream",
     "text": [
      "(70890, 5)\n",
      "[   0.7458    5.1332  148.      692.        6.    ]\n"
     ]
    }
   ],
   "source": [
    "#prepare X and y\n",
    "pos_time=4\n",
    "X=np.concatenate((datab[:,[1,2,3]],datab[:,[pos_time]]%1440,(datab[:,[pos_time]]//1440)%7),axis=1)\n",
    "y=np.ravel(datab[:,[5]]).astype('int64')\n",
    "print(X.shape)\n",
    "print(X[0])"
   ]
  },
  {
   "cell_type": "code",
   "execution_count": null,
   "metadata": {
    "collapsed": true
   },
   "outputs": [],
   "source": [
    "# K NEAREST NEIGHBORS"
   ]
  },
  {
   "cell_type": "code",
   "execution_count": 332,
   "metadata": {
    "collapsed": false
   },
   "outputs": [],
   "source": [
    "#prepare the algorithm\n",
    "\n",
    "#[x,y,acc,minute(1day), day]\n",
    "weights=[1/2,1,0.0005,1/18000,0.0001]\n",
    "knn = KNeighborsClassifier(n_neighbors=15, \n",
    "                           algorithm='auto',\n",
    "                           weights='distance',#'uniform' or 'distance'\n",
    "                           metric='minkowski',\n",
    "                           p=2,\n",
    "                           metric_params=None, \n",
    "                           leaf_size=30, \n",
    "                           n_jobs=1)"
   ]
  },
  {
   "cell_type": "code",
   "execution_count": 333,
   "metadata": {
    "collapsed": false
   },
   "outputs": [
    {
     "name": "stdout",
     "output_type": "stream",
     "text": [
      "[  3.72900000e-01   5.13320000e+00   7.40000000e-02   3.84444444e-02\n",
      "   6.00000000e-04]\n"
     ]
    }
   ],
   "source": [
    "#cut train and test\n",
    "test_size=10000\n",
    "\n",
    "np.random.seed()\n",
    "indices = np.random.permutation(len(X))\n",
    "X_train = X[indices[:-test_size]]*weights\n",
    "y_train = y[indices[:-test_size]]\n",
    "X_test  = X[indices[-test_size:]]*weights\n",
    "y_test  = y[indices[-test_size:]]\n",
    "\n",
    "print((X*weights)[0])"
   ]
  },
  {
   "cell_type": "code",
   "execution_count": 334,
   "metadata": {
    "collapsed": false
   },
   "outputs": [
    {
     "name": "stdout",
     "output_type": "stream",
     "text": [
      "55.56 %\n"
     ]
    }
   ],
   "source": [
    "#train and test\n",
    "knn.fit(X_train, y_train) \n",
    "print(knn.score(X_test,y_test)*100,'%')"
   ]
  },
  {
   "cell_type": "code",
   "execution_count": 234,
   "metadata": {
    "collapsed": true
   },
   "outputs": [],
   "source": [
    "# --------> 55% on test set"
   ]
  },
  {
   "cell_type": "code",
   "execution_count": 337,
   "metadata": {
    "collapsed": true
   },
   "outputs": [],
   "source": [
    "# RANDOM FOREST"
   ]
  },
  {
   "cell_type": "code",
   "execution_count": 347,
   "metadata": {
    "collapsed": true
   },
   "outputs": [],
   "source": [
    "#prepare\n",
    "\n",
    "#[x,y,acc,minute(1day), day]\n",
    "weights=[1/2,1,0.0005,1/18000,0.0001]\n",
    "rfc = RandomForestClassifier(n_estimators=4, \n",
    "                             criterion='gini', \n",
    "                             max_depth=10, \n",
    "                             min_samples_split=2, \n",
    "                             min_samples_leaf=1, \n",
    "                             min_weight_fraction_leaf=0.0, \n",
    "                             max_features='auto', \n",
    "                             max_leaf_nodes=None, \n",
    "                             bootstrap=True, \n",
    "                             oob_score=False, \n",
    "                             n_jobs=1, \n",
    "                             random_state=None, \n",
    "                             verbose=0, \n",
    "                             warm_start=False, \n",
    "                             class_weight=None)"
   ]
  },
  {
   "cell_type": "code",
   "execution_count": 348,
   "metadata": {
    "collapsed": false
   },
   "outputs": [
    {
     "name": "stdout",
     "output_type": "stream",
     "text": [
      "[  3.72900000e-01   5.13320000e+00   7.40000000e-02   3.84444444e-02\n",
      "   6.00000000e-04]\n"
     ]
    }
   ],
   "source": [
    "#cut\n",
    "test_size=10000\n",
    "\n",
    "np.random.seed()\n",
    "indices = np.random.permutation(len(X))\n",
    "X_train = X[indices[:-test_size]]*weights\n",
    "y_train = y[indices[:-test_size]]\n",
    "X_test  = X[indices[-test_size:]]*weights\n",
    "y_test  = y[indices[-test_size:]]\n",
    "\n",
    "print((X*weights)[0])"
   ]
  },
  {
   "cell_type": "code",
   "execution_count": 349,
   "metadata": {
    "collapsed": false
   },
   "outputs": [
    {
     "name": "stdout",
     "output_type": "stream",
     "text": [
      "46.29 %\n"
     ]
    }
   ],
   "source": [
    "#train     \n",
    "rfc.fit(X_train, y_train) \n",
    "print(rfc.score(X_test,y_test)*100,'%')"
   ]
  },
  {
   "cell_type": "code",
   "execution_count": null,
   "metadata": {
    "collapsed": true
   },
   "outputs": [],
   "source": [
    "# 52% with      !!!!! takes 5 minutes\n",
    "weights=[1/2,1,0.0005,1/18000,0.0001]\n",
    "rfc = RandomForestClassifier(n_estimators=10, \n",
    "                             criterion='gini', \n",
    "                             max_depth=10, \n",
    "                             min_samples_split=2, \n",
    "                             min_samples_leaf=1, \n",
    "                             min_weight_fraction_leaf=0.0, \n",
    "                             max_features='auto', \n",
    "                             max_leaf_nodes=None, \n",
    "                             bootstrap=True, \n",
    "                             oob_score=False, \n",
    "                             n_jobs=1, \n",
    "                             random_state=None, \n",
    "                             verbose=0, \n",
    "                             warm_start=False, \n",
    "                             class_weight=None)"
   ]
  },
  {
   "cell_type": "code",
   "execution_count": null,
   "metadata": {
    "collapsed": true
   },
   "outputs": [],
   "source": [
    "further :\n",
    "    test different values\n",
    "    implement in all square\n",
    "    see where is the error :\n",
    "        maybe not in the center\n",
    "        maybe only on poor represented places:\n",
    "            maybe there are not such ones in the submission\n",
    "    compute size of square :\n",
    "        with neighboring squares helping?\n",
    "        each place id contained in one square?\n",
    "    compute in several neighboring squares and take the best?\n",
    "    classifications methods:\n",
    "        real edges?\n",
    "        Expectation maximization with the center?\n",
    "    do script for automatic test:\n",
    "        several different cutting and tests :\n",
    "            different random or\n",
    "            10 different cuts?\n",
    "        automatic rate\n",
    "        automatic results show:\n",
    "            position\n",
    "            what ids\n",
    "    predict proba?\n",
    "    see shape of output file"
   ]
  }
 ],
 "metadata": {
  "kernelspec": {
   "display_name": "Python 3",
   "language": "python",
   "name": "python3"
  },
  "language_info": {
   "codemirror_mode": {
    "name": "ipython",
    "version": 3
   },
   "file_extension": ".py",
   "mimetype": "text/x-python",
   "name": "python",
   "nbconvert_exporter": "python",
   "pygments_lexer": "ipython3",
   "version": "3.5.1"
  }
 },
 "nbformat": 4,
 "nbformat_minor": 0
}
