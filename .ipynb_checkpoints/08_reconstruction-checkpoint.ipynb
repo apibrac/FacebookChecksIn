{
 "cells": [
  {
   "cell_type": "code",
   "execution_count": 2,
   "metadata": {
    "collapsed": false
   },
   "outputs": [
    {
     "data": {
      "text/plain": [
       "'Construction of the output file, from all the small output obtained'"
      ]
     },
     "execution_count": 2,
     "metadata": {},
     "output_type": "execute_result"
    }
   ],
   "source": [
    "'''Construction of the output file, from all the small output obtained'''"
   ]
  },
  {
   "cell_type": "code",
   "execution_count": 3,
   "metadata": {
    "collapsed": true
   },
   "outputs": [],
   "source": [
    "import csv\n",
    "import heapq"
   ]
  },
  {
   "cell_type": "code",
   "execution_count": 4,
   "metadata": {
    "collapsed": true
   },
   "outputs": [],
   "source": [
    "folder='D:/IA/Kaggle/Facebook/'"
   ]
  },
  {
   "cell_type": "code",
   "execution_count": 5,
   "metadata": {
    "collapsed": false
   },
   "outputs": [],
   "source": [
    "def extract_sub_parts(name, output_names=None):\n",
    "    '''extract sub files of name (break when the first column restart at a lower id)\n",
    "    \n",
    "    not beautiful, don't take the exception of the writter...\n",
    "    '''\n",
    "    if not output_names :\n",
    "        output_names=name[:-4]+'_'\n",
    "    with open(name,newline='') as f:\n",
    "        reader = csv.reader(f)\n",
    "        n=0\n",
    "        with open(output_names+str(n)+'.csv','w',newline='') as file:\n",
    "            writer = csv.writer(file)\n",
    "            current_line = 0\n",
    "            for line in reader :\n",
    "                if int(line[0]) < current_line :\n",
    "                    file.close()\n",
    "                    n+=1\n",
    "                    file=open(output_names+str(n)+'.csv','w',newline='')\n",
    "                    writer = csv.writer(file)\n",
    "                writer.writerow(line)\n",
    "                current_line = int(line[0])\n",
    "\n"
   ]
  },
  {
   "cell_type": "code",
   "execution_count": 6,
   "metadata": {
    "collapsed": false
   },
   "outputs": [],
   "source": [
    "def merge_files(names_input, name_output):\n",
    "    with control_managers([open(n, newline='') for n in names_input]) as files, open(name_output,'w',newline='') as f :\n",
    "        readers = [csv.reader(fi) for fi in files]\n",
    "        writer = csv.writer(f)\n",
    "        values = [(int(line[0]), line, i) for i,line in enumerate([r.__next__() for r in readers])]\n",
    "        heapq.heapify(values)\n",
    "        new_line = None\n",
    "        while values :\n",
    "            line = heapq.heappushpop(values, new_line) if new_line else heapq.heappop(values)\n",
    "            writer.writerow(line[1])\n",
    "            new_line=None\n",
    "            for next_line in readers[line[2]] : #used as a try/else/finally for StopIteration\n",
    "                new_line = (int(next_line[0]), next_line,line[2])\n",
    "                break\n",
    "    \n",
    "    \n",
    "class control_managers():\n",
    "    def __init__(self, managers_list):\n",
    "        self.managers = managers_list\n",
    "    def __enter__(self):\n",
    "        return [m.__enter__() for m in self.managers]\n",
    "    def __exit__(self, type, value, traceback):\n",
    "        [m.__exit__() for m in self.managers]"
   ]
  },
  {
   "cell_type": "code",
   "execution_count": 21,
   "metadata": {
    "collapsed": true
   },
   "outputs": [],
   "source": [
    "def check_and_fit(folder, sample, results, output):\n",
    "    \"\"\"check the size of the results and had head of sample, in output\"\"\"\n",
    "    with open(folder+sample, newline='') as sf, open(folder+results, newline='') as rf, open(folder+output,'w', newline='') as wf :\n",
    "        s, r, w = csv.reader(sf), csv.reader(rf), csv.writer(wf)\n",
    "        w.writerow(s.__next__())\n",
    "        sizes=[1,0,1]\n",
    "        for line in r :\n",
    "            w.writerow(line)\n",
    "            sizes[1]+=1\n",
    "            sizes[2]+=1\n",
    "            try :\n",
    "                s.__next__()\n",
    "                sizes[0]+=1\n",
    "            except StopIteration :\n",
    "                print('sample already finished')\n",
    "                print(line)\n",
    "        for line in s:\n",
    "            sizes[0]+=1\n",
    "            print('sample not finished')\n",
    "            print(line)\n",
    "        print(sizes)"
   ]
  },
  {
   "cell_type": "code",
   "execution_count": 36,
   "metadata": {
    "collapsed": true
   },
   "outputs": [],
   "source": [
    "def check_missing_lines(folder, results):\n",
    "    '''check what lines are missing'''\n",
    "    out=[]\n",
    "    with open(folder+results, newline='') as file:\n",
    "        reader=csv.reader(file)\n",
    "        current = -1\n",
    "        reader.__next__()\n",
    "        for line in reader :\n",
    "            current += 1\n",
    "            if int(line[0]) != current :\n",
    "                out.append(current)\n",
    "                current=int(line[0])\n",
    "    return out\n",
    "            "
   ]
  },
  {
   "cell_type": "code",
   "execution_count": 32,
   "metadata": {
    "collapsed": true
   },
   "outputs": [],
   "source": [
    "def collect_lines(folder, test, lines):\n",
    "    out=[]\n",
    "    with open(folder+test,newline='') as file:\n",
    "        reader = csv.reader(file)\n",
    "        reader.__next__()\n",
    "        nextl=lines.pop(0)\n",
    "        for line in reader :\n",
    "            if int(line[0]) == nextl :\n",
    "                out.append(line)\n",
    "                nextl=lines.pop(0)\n",
    "    return out\n"
   ]
  },
  {
   "cell_type": "code",
   "execution_count": 34,
   "metadata": {
    "collapsed": true
   },
   "outputs": [],
   "source": [
    "def complete_and_fit(folder, sample, results, output):\n",
    "    \"\"\"let white row for forgot values\"\"\"\n",
    "    with open(folder+sample, newline='') as sf, open(folder+results, newline='') as rf, open(folder+output,'w', newline='') as wf :\n",
    "        s, r, w = csv.reader(sf), csv.reader(rf), csv.writer(wf)\n",
    "        w.writerow(s.__next__())\n",
    "        sizes=[1,0,1]\n",
    "        next_complete_line=r.__next__()\n",
    "        for line in s :\n",
    "            if next_complete_line and int(line[0]) == int(next_complete_line[0]):#we have the good line\n",
    "                w.writerow(next_complete_line)\n",
    "                try :\n",
    "                    next_complete_line = r.__next__()\n",
    "                except StopIteration :\n",
    "                    next_complete_line = None\n",
    "            else :\n",
    "                w.writerow(line)"
   ]
  },
  {
   "cell_type": "code",
   "execution_count": 8,
   "metadata": {
    "collapsed": true
   },
   "outputs": [],
   "source": [
    "#execution"
   ]
  },
  {
   "cell_type": "code",
   "execution_count": 12,
   "metadata": {
    "collapsed": false
   },
   "outputs": [],
   "source": [
    "extract_sub_parts(folder+'output3.csv')"
   ]
  },
  {
   "cell_type": "code",
   "execution_count": 16,
   "metadata": {
    "collapsed": false
   },
   "outputs": [],
   "source": [
    "merge_files([folder+'output'+str(j)+'_'+str(i)+'.csv' for i in range(20) for j in range(20)],folder+'outputGLOBAL.csv')"
   ]
  },
  {
   "cell_type": "code",
   "execution_count": 35,
   "metadata": {
    "collapsed": false
   },
   "outputs": [],
   "source": [
    "complete_and_fit(folder,'sample_submission.csv','outputGLOBAL.csv','Pibiflex_submission.csv')"
   ]
  },
  {
   "cell_type": "code",
   "execution_count": null,
   "metadata": {
    "collapsed": false
   },
   "outputs": [],
   "source": [
    "lines=check_missing_lines(folder, 'outputGLOBAL.csv')"
   ]
  },
  {
   "cell_type": "code",
   "execution_count": 33,
   "metadata": {
    "collapsed": false
   },
   "outputs": [
    {
     "ename": "KeyboardInterrupt",
     "evalue": "",
     "output_type": "error",
     "traceback": [
      "\u001b[1;31m---------------------------------------------------------------------------\u001b[0m",
      "\u001b[1;31mKeyboardInterrupt\u001b[0m                         Traceback (most recent call last)",
      "\u001b[1;32m<ipython-input-33-42c6da4cb666>\u001b[0m in \u001b[0;36m<module>\u001b[1;34m()\u001b[0m\n\u001b[1;32m----> 1\u001b[1;33m \u001b[0mlines_values\u001b[0m\u001b[1;33m=\u001b[0m\u001b[0mcollect_lines\u001b[0m\u001b[1;33m(\u001b[0m\u001b[0mfolder\u001b[0m\u001b[1;33m,\u001b[0m\u001b[1;34m'test.csv'\u001b[0m\u001b[1;33m,\u001b[0m\u001b[0mlines\u001b[0m\u001b[1;33m)\u001b[0m\u001b[1;33m\u001b[0m\u001b[0m\n\u001b[0m",
      "\u001b[1;32m<ipython-input-32-b441013c440e>\u001b[0m in \u001b[0;36mcollect_lines\u001b[1;34m(folder, test, lines)\u001b[0m\n\u001b[0;32m      5\u001b[0m         \u001b[0mreader\u001b[0m\u001b[1;33m.\u001b[0m\u001b[0m__next__\u001b[0m\u001b[1;33m(\u001b[0m\u001b[1;33m)\u001b[0m\u001b[1;33m\u001b[0m\u001b[0m\n\u001b[0;32m      6\u001b[0m         \u001b[1;32mfor\u001b[0m \u001b[0mline\u001b[0m \u001b[1;32min\u001b[0m \u001b[0mreader\u001b[0m \u001b[1;33m:\u001b[0m\u001b[1;33m\u001b[0m\u001b[0m\n\u001b[1;32m----> 7\u001b[1;33m             \u001b[1;32mif\u001b[0m \u001b[0mint\u001b[0m\u001b[1;33m(\u001b[0m\u001b[0mline\u001b[0m\u001b[1;33m[\u001b[0m\u001b[1;36m0\u001b[0m\u001b[1;33m]\u001b[0m\u001b[1;33m)\u001b[0m \u001b[1;32min\u001b[0m \u001b[0mlines\u001b[0m \u001b[1;33m:\u001b[0m\u001b[1;33m\u001b[0m\u001b[0m\n\u001b[0m\u001b[0;32m      8\u001b[0m                 \u001b[0mout\u001b[0m\u001b[1;33m.\u001b[0m\u001b[0mappend\u001b[0m\u001b[1;33m(\u001b[0m\u001b[0mline\u001b[0m\u001b[1;33m)\u001b[0m\u001b[1;33m\u001b[0m\u001b[0m\n\u001b[0;32m      9\u001b[0m     \u001b[1;32mreturn\u001b[0m \u001b[0mout\u001b[0m\u001b[1;33m\u001b[0m\u001b[0m\n",
      "\u001b[1;31mKeyboardInterrupt\u001b[0m: "
     ]
    }
   ],
   "source": [
    "lines_values=collect_lines(folder,'test.csv',lines)"
   ]
  },
  {
   "cell_type": "code",
   "execution_count": null,
   "metadata": {
    "collapsed": true
   },
   "outputs": [],
   "source": [
    "position=[(x[1],x[2] for x in lines_values)]\n",
    "position=list(zip(position))\n",
    "fig = plt.figure(figsize=(20, 20))\n",
    "ax = fig.add_subplot(111)#, projection='3d')\n",
    "ax.scatter(position[0],position[1],linewidths=0)"
   ]
  },
  {
   "cell_type": "code",
   "execution_count": 38,
   "metadata": {
    "collapsed": false
   },
   "outputs": [
    {
     "name": "stdout",
     "output_type": "stream",
     "text": [
      "0\n"
     ]
    }
   ],
   "source": [
    "print(len(lines))"
   ]
  },
  {
   "cell_type": "code",
   "execution_count": null,
   "metadata": {
    "collapsed": true
   },
   "outputs": [],
   "source": []
  }
 ],
 "metadata": {
  "kernelspec": {
   "display_name": "Python 3",
   "language": "python",
   "name": "python3"
  },
  "language_info": {
   "codemirror_mode": {
    "name": "ipython",
    "version": 3
   },
   "file_extension": ".py",
   "mimetype": "text/x-python",
   "name": "python",
   "nbconvert_exporter": "python",
   "pygments_lexer": "ipython3",
   "version": "3.5.1"
  }
 },
 "nbformat": 4,
 "nbformat_minor": 0
}
