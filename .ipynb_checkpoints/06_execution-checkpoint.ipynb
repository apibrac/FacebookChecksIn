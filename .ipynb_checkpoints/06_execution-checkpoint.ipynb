{
 "cells": [
  {
   "cell_type": "code",
   "execution_count": 1,
   "metadata": {
    "collapsed": false
   },
   "outputs": [
    {
     "data": {
      "text/plain": [
       "'functions to extend a cell and be train the classifiers on the frontiers too'"
      ]
     },
     "execution_count": 1,
     "metadata": {},
     "output_type": "execute_result"
    }
   ],
   "source": [
    "'''functions to extend a cell and be train the classifiers on the frontiers too'''"
   ]
  },
  {
   "cell_type": "code",
   "execution_count": 2,
   "metadata": {
    "collapsed": true
   },
   "outputs": [],
   "source": [
    "from treatment import *\n",
    "from sklearn.neighbors import KNeighborsClassifier"
   ]
  },
  {
   "cell_type": "code",
   "execution_count": 23,
   "metadata": {
    "collapsed": true
   },
   "outputs": [],
   "source": [
    "folder='D:/IA/Kaggle/Facebook/'\n",
    "train='train.csv'\n",
    "test='test.csv'"
   ]
  },
  {
   "cell_type": "code",
   "execution_count": 9,
   "metadata": {
    "collapsed": true
   },
   "outputs": [],
   "source": [
    "# Classifier choice\n",
    "\n",
    "cut=20,20\n",
    "cell_gen=cut_in(*cut)\n",
    "\n",
    "dx,dy,dt=0.15,0.15,400\n",
    "\n",
    "#[x,y,acc,minute(1day), day]\n",
    "weights=[1,1.6,0,0.00012,0.0005]\n",
    "knn = KNeighborsClassifier(n_neighbors=40, \n",
    "                           algorithm='auto',\n",
    "                           weights='distance',#'uniform' or 'distance'\n",
    "                           metric='minkowski',\n",
    "                           p=1,\n",
    "                           metric_params=None, \n",
    "                           leaf_size=40, \n",
    "                           n_jobs=1)"
   ]
  },
  {
   "cell_type": "code",
   "execution_count": 12,
   "metadata": {
    "collapsed": false
   },
   "outputs": [
    {
     "name": "stdout",
     "output_type": "stream",
     "text": [
      "(2.0, 2.5) (2.5, 3.0)\n"
     ]
    }
   ],
   "source": [
    "#  Let's start\n",
    "\n",
    "for cx in range(cut[0]):\n",
    "    print('start of the '+str(cx)+' on x')\n",
    "    with open(folder+'output'+str(cx)+'.csv', 'w',newline='') as file:\n",
    "        writter = csv.writer(file)\n",
    "        for cy in range(cut[1]):\n",
    "            Xl,Yl=cell_gen(cx,cy)\n",
    "            print('start the ',Xl,Yl)\n",
    "            transform=lambda va,vb,vc,vd,ve,vf:(float(vb),float(vc),int(vd),int(ve)%1440,int(ve)//1440,int(vf))\n",
    "            h,s,b=extract_from(folder+train,Xl,Yl,dx,dy,transform)\n",
    "            transform=lambda va,vb,vc,vd,ve:(float(vb),float(vc),int(vd),int(ve)%1440,int(ve)//1440,int(va))\n",
    "            h,u,_=extract_from(folder+test,Xl,Yl,0,0,transform)\n",
    "        \n",
    "        \n",
    "        \n",
    "        \n",
    "        \n",
    "        \n",
    "        \n",
    "    for i,r in zip(idt,result):\n",
    "        line=[i,\" \".join([str(i) for i in r])]\n",
    "        writter.writerow(line)\n",
    "    \n"
   ]
  },
  {
   "cell_type": "code",
   "execution_count": 13,
   "metadata": {
    "collapsed": false
   },
   "outputs": [],
   "source": [
    "#extract training\n"
   ]
  },
  {
   "cell_type": "code",
   "execution_count": 14,
   "metadata": {
    "collapsed": true
   },
   "outputs": [],
   "source": [
    "#extract unknown\n"
   ]
  },
  {
   "cell_type": "raw",
   "metadata": {
    "collapsed": false
   },
   "source": [
    "print(h)\n",
    "print(len(s))\n",
    "print(len(b))\n",
    "print(len(u))"
   ]
  },
  {
   "cell_type": "code",
   "execution_count": 27,
   "metadata": {
    "collapsed": false
   },
   "outputs": [],
   "source": [
    "#extension with time\n",
    "s+=extend_from(s,dt=dt)[0]\n",
    "b+=extend_from(b,dt=dt)[0]\n",
    "#extension in space\n",
    "tot=s+b\n",
    "#predictor alone\n",
    "X,y=separate_column(tot,col=5)\n",
    "#id alone\n",
    "Xt,idt=separate_column(u,col=5)"
   ]
  },
  {
   "cell_type": "code",
   "execution_count": 28,
   "metadata": {
    "collapsed": false
   },
   "outputs": [
    {
     "name": "stdout",
     "output_type": "stream",
     "text": [
      "505548\n",
      "25465\n"
     ]
    }
   ],
   "source": [
    "print(len(X))\n",
    "print(len(Xt))"
   ]
  },
  {
   "cell_type": "code",
   "execution_count": 29,
   "metadata": {
    "collapsed": false
   },
   "outputs": [
    {
     "data": {
      "text/plain": [
       "KNeighborsClassifier(algorithm='auto', leaf_size=40, metric='minkowski',\n",
       "           metric_params=None, n_jobs=1, n_neighbors=40, p=1,\n",
       "           weights='distance')"
      ]
     },
     "execution_count": 29,
     "metadata": {},
     "output_type": "execute_result"
    }
   ],
   "source": [
    "# fit !\n",
    "knn.fit(X*weights, y)"
   ]
  },
  {
   "cell_type": "code",
   "execution_count": 30,
   "metadata": {
    "collapsed": true
   },
   "outputs": [],
   "source": [
    "#compute result\n",
    "result=n_best(knn,Xt,n=3)"
   ]
  },
  {
   "cell_type": "code",
   "execution_count": 51,
   "metadata": {
    "collapsed": false
   },
   "outputs": [],
   "source": []
  },
  {
   "cell_type": "code",
   "execution_count": null,
   "metadata": {
    "collapsed": true
   },
   "outputs": [],
   "source": []
  }
 ],
 "metadata": {
  "kernelspec": {
   "display_name": "Python 3",
   "language": "python",
   "name": "python3"
  },
  "language_info": {
   "codemirror_mode": {
    "name": "ipython",
    "version": 3
   },
   "file_extension": ".py",
   "mimetype": "text/x-python",
   "name": "python",
   "nbconvert_exporter": "python",
   "pygments_lexer": "ipython3",
   "version": "3.5.1"
  }
 },
 "nbformat": 4,
 "nbformat_minor": 0
}
