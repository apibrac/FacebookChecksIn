{
 "cells": [
  {
   "cell_type": "code",
   "execution_count": 1,
   "metadata": {
    "collapsed": false
   },
   "outputs": [
    {
     "data": {
      "text/plain": [
       "'functions to extend a cell and be train the classifiers on the frontiers too'"
      ]
     },
     "execution_count": 1,
     "metadata": {},
     "output_type": "execute_result"
    }
   ],
   "source": [
    "'''functions to extend a cell and be train the classifiers on the frontiers too'''"
   ]
  },
  {
   "cell_type": "code",
   "execution_count": 68,
   "metadata": {
    "collapsed": true
   },
   "outputs": [],
   "source": [
    "import csv\n",
    "import numpy as np\n",
    "from sklearn.neighbors import KNeighborsClassifier"
   ]
  },
  {
   "cell_type": "code",
   "execution_count": 47,
   "metadata": {
    "collapsed": true
   },
   "outputs": [],
   "source": [
    "def extract_from(name,X,Y,dx=0,dy=0,transform_type=lambda x:x):\n",
    "    '''extract too list of lines (with x and y at 0 and 1): those delimited by X and Y, those that are dx and/or dy further'''\n",
    "    small,big=[],[]\n",
    "    with open(name,newline='') as f :\n",
    "        reader=csv.reader(f)\n",
    "        head=reader.__next__()\n",
    "        for line in reader:\n",
    "            line=transform_type(*line)\n",
    "            x,y=line[0:2]\n",
    "            if x > X[0]-dx and x < X[1]+dx and y > Y[0]-dy and y < Y[1]+dy : # in the big square\n",
    "                if x > X[0] and x < X[1] and y > Y[0] and y < Y[1] : #also in the small one\n",
    "                    small.append(line)\n",
    "                else :\n",
    "                    big.append(line)\n",
    "        return head,small,big"
   ]
  },
  {
   "cell_type": "code",
   "execution_count": 92,
   "metadata": {
    "collapsed": true
   },
   "outputs": [],
   "source": [
    "def extend_from(X,Y=None,dt=0,indice_temps=3):\n",
    "    '''send a copy of X (and Y) lines that should be at the border following the time'''\n",
    "    if not Y:\n",
    "        Y=X\n",
    "    outX,outY=[],[]\n",
    "    for x,y in zip(X,Y):\n",
    "        if x[indice_temps] < dt :\n",
    "            cx=list(x)\n",
    "            cx[indice_temps]+=1440\n",
    "            outX.append(tuple(cx))\n",
    "            outY.append(y)\n",
    "        if x[indice_temps] > 1440-dt:\n",
    "            cx=list(x)\n",
    "            cx[indice_temps]-=1440\n",
    "            outX.append(tuple(cx))\n",
    "            outY.append(y)\n",
    "    return outX,outY\n",
    "            "
   ]
  },
  {
   "cell_type": "code",
   "execution_count": 63,
   "metadata": {
    "collapsed": true
   },
   "outputs": [],
   "source": [
    "def cut(X,Y=None,n=3):\n",
    "    size=len(X)//n\n",
    "    np.random.seed()\n",
    "    indices = np.random.permutation(len(X))\n",
    "    Xtr=[X[i] for i in indices[:-size]]\n",
    "    Xte=[X[i] for i in indices[-size:]]\n",
    "    if Y:\n",
    "        Xtr=[Y[i] for i in indices[:-size]]\n",
    "        Xte=[Y[i] for i in indices[-size:]]\n",
    "    else:\n",
    "        Ytr,Yte=None,None\n",
    "    return Xtr,Xte,Ytr,Yte"
   ]
  },
  {
   "cell_type": "code",
   "execution_count": 121,
   "metadata": {
    "collapsed": false
   },
   "outputs": [],
   "source": [
    "def separate_column(table,col=5):\n",
    "    ar=np.array(table)\n",
    "    ind=list(range(len(table[0])))\n",
    "    ind.remove(col)\n",
    "    return ar[:,ind],np.ravel(ar[:,[col]]).astype('int64')"
   ]
  },
  {
   "cell_type": "code",
   "execution_count": null,
   "metadata": {
    "collapsed": true
   },
   "outputs": [],
   "source": []
  },
  {
   "cell_type": "code",
   "execution_count": null,
   "metadata": {
    "collapsed": true
   },
   "outputs": [],
   "source": []
  },
  {
   "cell_type": "code",
   "execution_count": 49,
   "metadata": {
    "collapsed": false
   },
   "outputs": [],
   "source": [
    "transform=lambda va,vb,vc,vd,ve,vf:(float(vb),float(vc),int(vd),int(ve)%1440,int(ve)//1440,int(vf))\n",
    "h,s,b=extract_from('D:/IA/Kaggle/Facebook/train.csv',(6,6.25),(6,6.25),0.01,0.01,transform)"
   ]
  },
  {
   "cell_type": "code",
   "execution_count": 50,
   "metadata": {
    "collapsed": false
   },
   "outputs": [
    {
     "name": "stdout",
     "output_type": "stream",
     "text": [
      "['row_id', 'x', 'y', 'accuracy', 'time', 'place_id']\n",
      "17903\n",
      "2751\n"
     ]
    }
   ],
   "source": [
    "print(h)\n",
    "print(len(s))\n",
    "print(len(b))"
   ]
  },
  {
   "cell_type": "code",
   "execution_count": 136,
   "metadata": {
    "collapsed": false
   },
   "outputs": [],
   "source": [
    "s_train,s_test,_,_=cut(s,n=5)\n",
    "b_train,_,_,_=cut(b,n=5)#b_test useless\n",
    "s_train+=extend_from(s_train,dt=200)[0]\n",
    "b_train+=extend_from(b_train,dt=200)[0]\n",
    "tot_train=s_train+b_train\n",
    "X,y=separate_column(tot_train,col=5)\n",
    "Xt,yt=separate_column(s_test)"
   ]
  },
  {
   "cell_type": "code",
   "execution_count": 144,
   "metadata": {
    "collapsed": false
   },
   "outputs": [],
   "source": [
    "#[x,y,acc,minute(1day), day]\n",
    "weights=[1,1.916,0.027,0.000127,0.005]# ------> to be changed\n",
    "knn = KNeighborsClassifier(n_neighbors=15, \n",
    "                           algorithm='auto',\n",
    "                           weights='distance',#'uniform' or 'distance'\n",
    "                           metric='minkowski',\n",
    "                           p=2,\n",
    "                           metric_params=None, \n",
    "                           leaf_size=30, \n",
    "                           n_jobs=1)"
   ]
  },
  {
   "cell_type": "code",
   "execution_count": 145,
   "metadata": {
    "collapsed": false
   },
   "outputs": [
    {
     "name": "stdout",
     "output_type": "stream",
     "text": [
      "34.3854748603 %\n"
     ]
    }
   ],
   "source": [
    "knn.fit(X*weights, y) \n",
    "print(knn.score(Xt*weights,yt)*100,'%')"
   ]
  },
  {
   "cell_type": "code",
   "execution_count": null,
   "metadata": {
    "collapsed": true
   },
   "outputs": [],
   "source": []
  }
 ],
 "metadata": {
  "kernelspec": {
   "display_name": "Python 3",
   "language": "python",
   "name": "python3"
  },
  "language_info": {
   "codemirror_mode": {
    "name": "ipython",
    "version": 3
   },
   "file_extension": ".py",
   "mimetype": "text/x-python",
   "name": "python",
   "nbconvert_exporter": "python",
   "pygments_lexer": "ipython3",
   "version": "3.5.1"
  }
 },
 "nbformat": 4,
 "nbformat_minor": 0
}
