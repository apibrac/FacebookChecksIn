{
 "cells": [
  {
   "cell_type": "code",
   "execution_count": 1,
   "metadata": {
    "collapsed": false
   },
   "outputs": [
    {
     "data": {
      "text/plain": [
       "'Try and test different methods'"
      ]
     },
     "execution_count": 1,
     "metadata": {},
     "output_type": "execute_result"
    }
   ],
   "source": [
    "'''Try and test different methods'''"
   ]
  },
  {
   "cell_type": "code",
   "execution_count": 10,
   "metadata": {
    "collapsed": true
   },
   "outputs": [],
   "source": [
    "import figures\n",
    "\n",
    "import csv\n",
    "import numpy as np\n",
    "import sklearn.neighbors\n",
    "import sklearn.ensemble"
   ]
  },
  {
   "cell_type": "code",
   "execution_count": 3,
   "metadata": {
    "collapsed": true
   },
   "outputs": [],
   "source": [
    "#files\n",
    "folder='D:/IA/Kaggle/Facebook/'\n",
    "training=folder+'train.csv'\n",
    "small=folder+'subcell.csv'"
   ]
  },
  {
   "cell_type": "code",
   "execution_count": 4,
   "metadata": {
    "collapsed": false
   },
   "outputs": [
    {
     "name": "stdout",
     "output_type": "stream",
     "text": [
      "['row_id', 'x', 'y', 'accuracy', 'time', 'place_id']\n",
      "(15186, 6)\n",
      "[  9.14000000e+02   5.00700000e+00   7.57360000e+00   1.94000000e+02\n",
      "   5.45337000e+05   7.74158936e+09]\n"
     ]
    }
   ],
   "source": [
    "#load data\n",
    "with open(training, 'r',newline='') as csvfile:\n",
    "    reader=csv.reader(csvfile)\n",
    "    print(reader.__next__())\n",
    "datab=np.loadtxt(small, delimiter=\",\",skiprows=1)\n",
    "print(datab.shape)\n",
    "print(datab[0])"
   ]
  },
  {
   "cell_type": "code",
   "execution_count": 5,
   "metadata": {
    "collapsed": false
   },
   "outputs": [
    {
     "name": "stdout",
     "output_type": "stream",
     "text": [
      "(15186, 5)\n",
      "[    5.007      7.5736   194.      1017.         0.    ]\n"
     ]
    }
   ],
   "source": [
    "#prepare X and y\n",
    "pos_time=4\n",
    "X=np.concatenate((datab[:,[1,2,3]],datab[:,[pos_time]]%1440,(datab[:,[pos_time]]//1440)%7),axis=1)\n",
    "y=np.ravel(datab[:,[5]]).astype('int64')\n",
    "print(X.shape)\n",
    "print(X[0])"
   ]
  },
  {
   "cell_type": "code",
   "execution_count": 6,
   "metadata": {
    "collapsed": true
   },
   "outputs": [],
   "source": [
    "data=figures.Testor(X,y,\n",
    "                    cross_validation=10,\n",
    "                    grouping=20)\n",
    "fig={}"
   ]
  },
  {
   "cell_type": "code",
   "execution_count": 7,
   "metadata": {
    "collapsed": false
   },
   "outputs": [],
   "source": [
    "name='K NEAREST NEIGHBORS dist'\n",
    "weights=[1/2,1,0.0005,1/18000,0.0001]\n",
    "knn = sklearn.neighbors.KNeighborsClassifier(n_neighbors=15, \n",
    "                           algorithm='auto',\n",
    "                           weights='distance',#'uniform' or 'distance'\n",
    "                           metric='minkowski',\n",
    "                           p=2,\n",
    "                           metric_params=None, \n",
    "                           leaf_size=30, \n",
    "                           n_jobs=1)\n",
    "fig[name]=data.testNrate(knn,weights,name,str(knn.__dict__))"
   ]
  },
  {
   "cell_type": "code",
   "execution_count": 8,
   "metadata": {
    "collapsed": false
   },
   "outputs": [],
   "source": [
    "name='RANDOM FOREST sub'\n",
    "weights=[1/2,1,0.0005,1/18000,0.0001]\n",
    "rfc = s(n_estimators=4, \n",
    "                             criterion='gini', \n",
    "                             max_depth=10, \n",
    "                             min_samples_split=2, \n",
    "                             min_samples_leaf=1, \n",
    "                             min_weight_fraction_leaf=0.0, \n",
    "                             max_features='auto', \n",
    "                             max_leaf_nodes=None, \n",
    "                             bootstrap=True, \n",
    "                             oob_score=False, \n",
    "                             n_jobs=1, \n",
    "                             random_state=None, \n",
    "                             verbose=0, \n",
    "                             warm_start=False, \n",
    "                             class_weight=None)\n",
    "fig[name]=data.testNrate(rfc,weights,name,str(rfc.base_estimator))"
   ]
  },
  {
   "cell_type": "code",
   "execution_count": 9,
   "metadata": {
    "collapsed": false
   },
   "outputs": [
    {
     "ename": "NameError",
     "evalue": "name 'skl' is not defined",
     "output_type": "error",
     "traceback": [
      "\u001b[1;31m---------------------------------------------------------------------------\u001b[0m",
      "\u001b[1;31mNameError\u001b[0m                                 Traceback (most recent call last)",
      "\u001b[1;32m<ipython-input-9-0d38c302ee44>\u001b[0m in \u001b[0;36m<module>\u001b[1;34m()\u001b[0m\n\u001b[0;32m      1\u001b[0m \u001b[0mname\u001b[0m\u001b[1;33m=\u001b[0m\u001b[1;34m'GRADIENT BOOSTING CLASSIFIER'\u001b[0m\u001b[1;33m\u001b[0m\u001b[0m\n\u001b[1;32m----> 2\u001b[1;33m gbc=skl.ensemble.GradientBoostingClassifier(loss='deviance', \n\u001b[0m\u001b[0;32m      3\u001b[0m                                             \u001b[0mlearning_rate\u001b[0m\u001b[1;33m=\u001b[0m\u001b[1;36m0.1\u001b[0m\u001b[1;33m,\u001b[0m\u001b[1;33m\u001b[0m\u001b[0m\n\u001b[0;32m      4\u001b[0m                                             \u001b[0mn_estimators\u001b[0m\u001b[1;33m=\u001b[0m\u001b[1;36m100\u001b[0m\u001b[1;33m,\u001b[0m\u001b[1;33m\u001b[0m\u001b[0m\n\u001b[0;32m      5\u001b[0m                                             \u001b[0msubsample\u001b[0m\u001b[1;33m=\u001b[0m\u001b[1;36m1.0\u001b[0m\u001b[1;33m,\u001b[0m\u001b[1;33m\u001b[0m\u001b[0m\n",
      "\u001b[1;31mNameError\u001b[0m: name 'skl' is not defined"
     ]
    }
   ],
   "source": [
    "name='GRADIENT BOOSTING CLASSIFIER'\n",
    "gbc=skl.ensemble.GradientBoostingClassifier(loss='deviance', \n",
    "                                            learning_rate=0.1, \n",
    "                                            n_estimators=100, \n",
    "                                            subsample=1.0, \n",
    "                                            min_samples_split=2, \n",
    "                                            min_samples_leaf=1, \n",
    "                                            min_weight_fraction_leaf=0.0, \n",
    "                                            max_depth=3, \n",
    "                                            init=None, \n",
    "                                            random_state=None, \n",
    "                                            max_features=None, \n",
    "                                            verbose=0, \n",
    "                                            max_leaf_nodes=None, \n",
    "                                            warm_start=False, \n",
    "                                            presort='auto')\n",
    "#fig[name]=data.testNrate(gbc,weights,name,str(rfc.base_estimator))"
   ]
  }
 ],
 "metadata": {
  "kernelspec": {
   "display_name": "Python 3",
   "language": "python",
   "name": "python3"
  },
  "language_info": {
   "codemirror_mode": {
    "name": "ipython",
    "version": 3
   },
   "file_extension": ".py",
   "mimetype": "text/x-python",
   "name": "python",
   "nbconvert_exporter": "python",
   "pygments_lexer": "ipython3",
   "version": "3.5.1"
  }
 },
 "nbformat": 4,
 "nbformat_minor": 0
}
