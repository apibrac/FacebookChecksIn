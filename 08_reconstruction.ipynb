{
 "cells": [
  {
   "cell_type": "code",
   "execution_count": 2,
   "metadata": {
    "collapsed": false
   },
   "outputs": [
    {
     "data": {
      "text/plain": [
       "'Construction of the output file, from all the small output obtained'"
      ]
     },
     "execution_count": 2,
     "metadata": {},
     "output_type": "execute_result"
    }
   ],
   "source": [
    "'''Construction of the output file, from all the small output obtained'''"
   ]
  },
  {
   "cell_type": "code",
   "execution_count": 3,
   "metadata": {
    "collapsed": true
   },
   "outputs": [],
   "source": [
    "import csv\n",
    "import heapq"
   ]
  },
  {
   "cell_type": "code",
   "execution_count": 4,
   "metadata": {
    "collapsed": true
   },
   "outputs": [],
   "source": [
    "folder='D:/IA/Kaggle/Facebook/'"
   ]
  },
  {
   "cell_type": "code",
   "execution_count": 5,
   "metadata": {
    "collapsed": false
   },
   "outputs": [],
   "source": [
    "def extract_sub_parts(name, output_names=None):\n",
    "    '''extract sub files of name (break when the first column restart at a lower id)\n",
    "    \n",
    "    not beautiful, don't take the exception of the writter...\n",
    "    '''\n",
    "    if not output_names :\n",
    "        output_names=name[:-4]+'_'\n",
    "    with open(name,newline='') as f:\n",
    "        reader = csv.reader(f)\n",
    "        n=0\n",
    "        with open(output_names+str(n)+'.csv','w',newline='') as file:\n",
    "            writer = csv.writer(file)\n",
    "            current_line = 0\n",
    "            for line in reader :\n",
    "                if int(line[0]) < current_line :\n",
    "                    file.close()\n",
    "                    n+=1\n",
    "                    file=open(output_names+str(n)+'.csv','w',newline='')\n",
    "                    writer = csv.writer(file)\n",
    "                writer.writerow(line)\n",
    "                current_line = int(line[0])\n",
    "\n"
   ]
  },
  {
   "cell_type": "code",
   "execution_count": 6,
   "metadata": {
    "collapsed": false
   },
   "outputs": [],
   "source": [
    "def merge_files(names_input, name_output):\n",
    "    with control_managers([open(n, newline='') for n in names_input]) as files, open(name_output,'w',newline='') as f :\n",
    "        readers = [csv.reader(fi) for fi in files]\n",
    "        writer = csv.writer(f)\n",
    "        values = [(int(line[0]), line, i) for i,line in enumerate([r.__next__() for r in readers])]\n",
    "        heapq.heapify(values)\n",
    "        new_line = None\n",
    "        while values :\n",
    "            line = heapq.heappushpop(values, new_line) if new_line else heapq.heappop(values)\n",
    "            writer.writerow(line[1])\n",
    "            new_line=None\n",
    "            for next_line in readers[line[2]] : #used as a try/else/finally for StopIteration\n",
    "                new_line = (int(next_line[0]), next_line,line[2])\n",
    "                break\n",
    "    \n",
    "    \n",
    "class control_managers():\n",
    "    def __init__(self, managers_list):\n",
    "        self.managers = managers_list\n",
    "    def __enter__(self):\n",
    "        return [m.__enter__() for m in self.managers]\n",
    "    def __exit__(self, type, value, traceback):\n",
    "        [m.__exit__() for m in self.managers]"
   ]
  },
  {
   "cell_type": "code",
   "execution_count": 21,
   "metadata": {
    "collapsed": true
   },
   "outputs": [],
   "source": [
    "def check_and_fit(folder, sample, results, output):\n",
    "    \"\"\"check the size of the results and had head of sample, in output\"\"\"\n",
    "    with open(folder+sample, newline='') as sf, open(folder+results, newline='') as rf, open(folder+output,'w', newline='') as wf :\n",
    "        s, r, w = csv.reader(sf), csv.reader(rf), csv.writer(wf)\n",
    "        w.writerow(s.__next__())\n",
    "        sizes=[1,0,1]\n",
    "        for line in r :\n",
    "            w.writerow(line)\n",
    "            sizes[1]+=1\n",
    "            sizes[2]+=1\n",
    "            try :\n",
    "                s.__next__()\n",
    "                sizes[0]+=1\n",
    "            except StopIteration :\n",
    "                print('sample already finished')\n",
    "                print(line)\n",
    "        for line in s:\n",
    "            sizes[0]+=1\n",
    "            print('sample not finished')\n",
    "            print(line)\n",
    "        print(sizes)"
   ]
  },
  {
   "cell_type": "code",
   "execution_count": 36,
   "metadata": {
    "collapsed": true
   },
   "outputs": [],
   "source": [
    "def check_missing_lines(folder, results):\n",
    "    '''check what lines are missing'''\n",
    "    out=[]\n",
    "    with open(folder+results, newline='') as file:\n",
    "        reader=csv.reader(file)\n",
    "        current = -1\n",
    "        reader.__next__()\n",
    "        for line in reader :\n",
    "            current += 1\n",
    "            if int(line[0]) != current :\n",
    "                out.append(current)\n",
    "                current=int(line[0])\n",
    "    return out\n",
    "            "
   ]
  },
  {
   "cell_type": "code",
   "execution_count": 32,
   "metadata": {
    "collapsed": true
   },
   "outputs": [],
   "source": [
    "def collect_lines(folder, test, lines):\n",
    "    out=[]\n",
    "    with open(folder+test,newline='') as file:\n",
    "        reader = csv.reader(file)\n",
    "        reader.__next__()\n",
    "        nextl=lines.pop(0)\n",
    "        for line in reader :\n",
    "            if int(line[0]) == nextl :\n",
    "                out.append(line)\n",
    "                try :\n",
    "                    nextl=lines.pop(0)\n",
    "                except Error :\n",
    "                    nextl=0\n",
    "    return out\n"
   ]
  },
  {
   "cell_type": "code",
   "execution_count": 34,
   "metadata": {
    "collapsed": true
   },
   "outputs": [],
   "source": [
    "def complete_and_fit(folder, sample, results, output):\n",
    "    \"\"\"let white row for forgot values\"\"\"\n",
    "    with open(folder+sample, newline='') as sf, open(folder+results, newline='') as rf, open(folder+output,'w', newline='') as wf :\n",
    "        s, r, w = csv.reader(sf), csv.reader(rf), csv.writer(wf)\n",
    "        w.writerow(s.__next__())\n",
    "        sizes=[1,0,1]\n",
    "        next_complete_line=r.__next__()\n",
    "        for line in s :\n",
    "            if next_complete_line and int(line[0]) == int(next_complete_line[0]):#we have the good line\n",
    "                w.writerow(next_complete_line)\n",
    "                try :\n",
    "                    next_complete_line = r.__next__()\n",
    "                except StopIteration :\n",
    "                    next_complete_line = None\n",
    "            else :\n",
    "                w.writerow(line)"
   ]
  },
  {
   "cell_type": "code",
   "execution_count": 55,
   "metadata": {
    "collapsed": true
   },
   "outputs": [],
   "source": [
    "def extract_regular_lines(folder,file,N=100000,N_lines=100000):\n",
    "    with open(folder+file,newline='') as f:\n",
    "        r=csv.reader(f)\n",
    "        n=0\n",
    "        for line in r:\n",
    "            if n%N==0:\n",
    "                print(line)\n",
    "                n=0\n",
    "                N_lines-=1\n",
    "                if N_lines==0 :\n",
    "                    return None\n",
    "            n+=1\n",
    "    "
   ]
  },
  {
   "cell_type": "code",
   "execution_count": 8,
   "metadata": {
    "collapsed": true
   },
   "outputs": [],
   "source": [
    "#execution"
   ]
  },
  {
   "cell_type": "code",
   "execution_count": 12,
   "metadata": {
    "collapsed": false
   },
   "outputs": [],
   "source": [
    "extract_sub_parts(folder+'output3.csv')"
   ]
  },
  {
   "cell_type": "code",
   "execution_count": 16,
   "metadata": {
    "collapsed": false
   },
   "outputs": [],
   "source": [
    "merge_files([folder+'output'+str(j)+'_'+str(i)+'.csv' for i in range(20) for j in range(20)],folder+'outputGLOBAL.csv')"
   ]
  },
  {
   "cell_type": "code",
   "execution_count": 35,
   "metadata": {
    "collapsed": false
   },
   "outputs": [],
   "source": [
    "complete_and_fit(folder,'sample_submission.csv','outputGLOBAL.csv','Pibiflex_submission.csv')"
   ]
  },
  {
   "cell_type": "code",
   "execution_count": 39,
   "metadata": {
    "collapsed": false
   },
   "outputs": [],
   "source": [
    "lines=check_missing_lines(folder, 'outputGLOBAL.csv')"
   ]
  },
  {
   "cell_type": "code",
   "execution_count": 40,
   "metadata": {
    "collapsed": false
   },
   "outputs": [
    {
     "name": "stdout",
     "output_type": "stream",
     "text": [
      "3314\n"
     ]
    }
   ],
   "source": [
    "print(len(lines))"
   ]
  },
  {
   "cell_type": "code",
   "execution_count": 41,
   "metadata": {
    "collapsed": false
   },
   "outputs": [
    {
     "ename": "KeyboardInterrupt",
     "evalue": "",
     "output_type": "error",
     "traceback": [
      "\u001b[1;31m---------------------------------------------------------------------------\u001b[0m",
      "\u001b[1;31mKeyboardInterrupt\u001b[0m                         Traceback (most recent call last)",
      "\u001b[1;32m<ipython-input-41-42c6da4cb666>\u001b[0m in \u001b[0;36m<module>\u001b[1;34m()\u001b[0m\n\u001b[1;32m----> 1\u001b[1;33m \u001b[0mlines_values\u001b[0m\u001b[1;33m=\u001b[0m\u001b[0mcollect_lines\u001b[0m\u001b[1;33m(\u001b[0m\u001b[0mfolder\u001b[0m\u001b[1;33m,\u001b[0m\u001b[1;34m'test.csv'\u001b[0m\u001b[1;33m,\u001b[0m\u001b[0mlines\u001b[0m\u001b[1;33m)\u001b[0m\u001b[1;33m\u001b[0m\u001b[0m\n\u001b[0m",
      "\u001b[1;32m<ipython-input-32-b441013c440e>\u001b[0m in \u001b[0;36mcollect_lines\u001b[1;34m(folder, test, lines)\u001b[0m\n\u001b[0;32m      5\u001b[0m         \u001b[0mreader\u001b[0m\u001b[1;33m.\u001b[0m\u001b[0m__next__\u001b[0m\u001b[1;33m(\u001b[0m\u001b[1;33m)\u001b[0m\u001b[1;33m\u001b[0m\u001b[0m\n\u001b[0;32m      6\u001b[0m         \u001b[1;32mfor\u001b[0m \u001b[0mline\u001b[0m \u001b[1;32min\u001b[0m \u001b[0mreader\u001b[0m \u001b[1;33m:\u001b[0m\u001b[1;33m\u001b[0m\u001b[0m\n\u001b[1;32m----> 7\u001b[1;33m             \u001b[1;32mif\u001b[0m \u001b[0mint\u001b[0m\u001b[1;33m(\u001b[0m\u001b[0mline\u001b[0m\u001b[1;33m[\u001b[0m\u001b[1;36m0\u001b[0m\u001b[1;33m]\u001b[0m\u001b[1;33m)\u001b[0m \u001b[1;32min\u001b[0m \u001b[0mlines\u001b[0m \u001b[1;33m:\u001b[0m\u001b[1;33m\u001b[0m\u001b[0m\n\u001b[0m\u001b[0;32m      8\u001b[0m                 \u001b[0mout\u001b[0m\u001b[1;33m.\u001b[0m\u001b[0mappend\u001b[0m\u001b[1;33m(\u001b[0m\u001b[0mline\u001b[0m\u001b[1;33m)\u001b[0m\u001b[1;33m\u001b[0m\u001b[0m\n\u001b[0;32m      9\u001b[0m     \u001b[1;32mreturn\u001b[0m \u001b[0mout\u001b[0m\u001b[1;33m\u001b[0m\u001b[0m\n",
      "\u001b[1;31mKeyboardInterrupt\u001b[0m: "
     ]
    }
   ],
   "source": [
    "lines_values=collect_lines(folder,'test.csv',lines)"
   ]
  },
  {
   "cell_type": "code",
   "execution_count": null,
   "metadata": {
    "collapsed": true
   },
   "outputs": [],
   "source": [
    "position=[(x[1],x[2] for x in lines_values)]\n",
    "position=list(zip(position))\n",
    "fig = plt.figure(figsize=(20, 20))\n",
    "ax = fig.add_subplot(111)#, projection='3d')\n",
    "ax.scatter(position[0],position[1],linewidths=0)"
   ]
  },
  {
   "cell_type": "code",
   "execution_count": 59,
   "metadata": {
    "collapsed": false
   },
   "outputs": [
    {
     "name": "stdout",
     "output_type": "stream",
     "text": [
      "['row_id', 'x', 'y', 'accuracy', 'time']\n",
      "['0', '0.1675', '1.3608', '107', '930883']\n",
      "['1', '7.3909', '2.5301', '35', '893017']\n",
      "['2', '8.0978', '2.3473', '62', '976933']\n",
      "['3', '0.999', '1.0591', '62', '907285']\n",
      "['4', '0.667', '9.7254', '40', '914399']\n",
      "['5', '0.1771', '0.0022', '161', '814077']\n",
      "['6', '5.5299', '4.6581', '2', '930759']\n",
      "['7', '8.6021', '3.1744', '4', '862115']\n",
      "['8', '4.225', '6.3435', '162', '787391']\n",
      "['9', '0.6489', '6.2611', '39', '793166']\n",
      "['10', '2.7546', '6.6373', '315', '807936']\n",
      "['11', '0.9998', '7.4121', '80', '913991']\n",
      "['12', '4.9477', '6.4959', '7', '938599']\n",
      "['13', '5.0336', '1.2666', '83', '800780']\n",
      "['14', '0.948', '4.4362', '59', '892117']\n",
      "['15', '0.2898', '3.0031', '57', '909801']\n",
      "['16', '5.2386', '1.8262', '52', '867042']\n",
      "['17', '2.9797', '7.7333', '170', '822650']\n",
      "['18', '5.0956', '0.1904', '56', '841934']\n",
      "['19', '2.7856', '1.7072', '61', '884954']\n",
      "['20', '3.6321', '2.2853', '67', '905857']\n",
      "['21', '9.9039', '5.9419', '76', '842668']\n",
      "['22', '5.5745', '3.4077', '30', '863513']\n",
      "['23', '2.4119', '6.3321', '70', '867179']\n",
      "['24', '3.0635', '4.2433', '78', '855147']\n",
      "['25', '4.8934', '3.7615', '237', '820307']\n",
      "['26', '0.9999', '9.9553', '844', '809976']\n",
      "['27', '9.4647', '2.0808', '638', '872145']\n",
      "['28', '5.0168', '6.4633', '90', '861390']\n",
      "['29', '0.1378', '6.3284', '25', '791750']\n",
      "['30', '9.6577', '6.0757', '65', '842805']\n",
      "['31', '5.6687', '3.5418', '56', '911496']\n",
      "['32', '7.3823', '7.8602', '61', '840089']\n",
      "['33', '8.9496', '0.2318', '33', '873839']\n",
      "['34', '4.1345', '5.948', '993', '989796']\n",
      "['35', '8.9025', '4.9839', '67', '969345']\n",
      "['36', '8.8641', '8.2885', '65', '871507']\n",
      "['37', '6.9336', '5.0818', '339', '944627']\n",
      "['38', '0.0998', '5.2303', '38', '930660']\n",
      "['39', '1.4303', '0.2069', '23', '862332']\n",
      "['40', '6.9631', '5.9233', '50', '981220']\n",
      "['41', '0.2945', '0.6054', '57', '972213']\n",
      "['42', '9.0974', '8.4379', '65', '974317']\n",
      "['43', '5.5015', '9.4484', '160', '935027']\n",
      "['44', '8.0036', '5.5026', '40', '980345']\n",
      "['45', '2.2715', '0.3619', '36', '863204']\n",
      "['46', '7.3684', '4.7008', '70', '963399']\n",
      "['47', '4.3174', '6.939', '70', '836097']\n",
      "['48', '8.1082', '8.6672', '65', '989773']\n"
     ]
    }
   ],
   "source": [
    "extract_regular_lines(folder, 'test.csv',N=1,N_lines=50)"
   ]
  },
  {
   "cell_type": "code",
   "execution_count": 48,
   "metadata": {
    "collapsed": false
   },
   "outputs": [
    {
     "name": "stdout",
     "output_type": "stream",
     "text": [
      "['row_id', 'place_id']\n",
      "['99999', '7041827533 7404370151 9858681735']\n",
      "['199999', '9794813531 1094723460 1358471000']\n",
      "['299999', '1307322953 9994236123 9003822709']\n",
      "['399999', '4521095393 4356523554 1939736249']\n",
      "['499999', '1227752784 1359167240 7920649209']\n",
      "['599999', '5484587131 7767830704 3407767346']\n",
      "['699999', '1010496931 4558402323 1443591053']\n",
      "['799999', '5449188393 3973352211 3231148897']\n",
      "['899999', '7498991789 2042110820 4139794973']\n",
      "['999999', '3885273378 4719146568 9267626150']\n",
      "['1099999', '3410887515 9084690864 4363987023']\n",
      "['1199999', '1608186657 7184911171 3954331366']\n",
      "['1299999', '5253097169 7809835411 7739549317']\n",
      "['1399999', '2462676557 9018937828 4117797522']\n",
      "['1499999', '1725755607 9804704950 4041640586']\n",
      "['1599999', '7212742750 6523625623 7512623630']\n",
      "['1699999', '5961278997 8228310043 8814028353']\n",
      "['1799999', '4430439961 5721681234 1941824359']\n",
      "['1899999', '7457424654 3869576986 1017703558']\n",
      "['1999999', '3886717477 2209775329 7641331421']\n",
      "['2099999', '3166188869 6255335949 4034340935']\n",
      "['2199999', '8940933367 2464122156 6217222957']\n",
      "['2299999', '9521906565 8291532762 7473819685']\n",
      "['2399999', '1733221194 2426276732 8018708440']\n",
      "['2499999', '7184947688 9002965049 6605519813']\n",
      "['2599999', '8958640518 6243128456 3383439068']\n",
      "['2699999', '8176131000 2092545402 4614584756']\n",
      "['2799999', '7102325334 6413965716 8654397708']\n",
      "['2899999', '6878483963 8239538092 7254265307']\n",
      "['2999999', '9625914385 2519054524 2963209412']\n",
      "['3099999', '9698209366 9209136853 2595851799']\n",
      "['3199999', '3216394964 3781047049 5218890251']\n",
      "['3299999', '4095343488 6001562979 4056043674']\n",
      "['3399999', '6801131893 9797429781 3440892847']\n",
      "['3499999', '3144580581 1262675901 4273184917']\n",
      "['3599999', '6091452374 9057509260 4645789375']\n",
      "['3699999', '9013645450 3604524637 6563306627']\n",
      "['3799999', '4391696893 7348940462 7808360348']\n",
      "['3899999', '3550358956 1725283572 3064098545']\n",
      "['3999999', '1674505204 7251167249 9182706795']\n",
      "['4099999', '2725133547 5165695183 6489723462']\n",
      "['4199999', '5252576367 7705756755 1906867980']\n",
      "['4299999', '2877263847 3756600438 8854762012']\n",
      "['4399999', '7125343187 1212300462 7685138180']\n",
      "['4499999', '1330629004 7888938055 4335717754']\n",
      "['4599999', '9737668984 7314111654 5610935842']\n",
      "['4699999', '3618233791 8021548574 7526511096']\n",
      "['4799999', '1745527182 4731699490 6122578361']\n",
      "['4899999', '7549545746 1085361753 7006609488']\n",
      "['4999999', '4897333289 1146436972 5568764922']\n",
      "['5099999', '6350715752 2170488329 7397283335']\n",
      "['5199999', '6995158396 6565302252 5870992023']\n",
      "['5299999', '5775113534 6567230899 7865141515']\n",
      "['5399999', '8017072139 5274648504 8238107175']\n",
      "['5499999', '7473558692 8785730763 6674894585']\n",
      "['5599999', '3825548789 8454942285 8714467676']\n",
      "['5699999', '7684443836 3199781584 4674730958']\n",
      "['5799999', '6517211306 3836408686 5569229126']\n",
      "['5899999', '3455828093 3592924902 5480128078']\n",
      "['5999999', '1400422900 6098789958 1181585462']\n",
      "['6099999', '3754025541 4330756205 2845860554']\n",
      "['6199999', '7531829041 3006271275 7968425508']\n",
      "['6299999', '9600479956 4522092428 3569164567']\n",
      "['6399999', '2379270583 9890426754 4970534649']\n",
      "['6499999', '7768371665 5918219379 8296179450']\n",
      "['6599999', '3520407140 1518470867 2331416239']\n",
      "['6699999', '5281182234 1147120887 7735431297']\n",
      "['6799999', '8453257168 1031834648 4460149695']\n",
      "['6899999', '1960272354 5103628831 7252670778']\n",
      "['6999999', '2482334547 4134322567 5849178673']\n",
      "['7099999', '8989975865 5569932538 4755111352']\n",
      "['7199999', '9390303464 4304189348 6715696480']\n",
      "['7299999', '6481498509 5178299301 7570952077']\n",
      "['7399999', '6294304343 7582585254 9243318169']\n",
      "['7499999', '4042113967 5578488228 4997805052']\n",
      "['7599999', '1656255553 2575569565 9527263854']\n",
      "['7699999', '2959543910 6031727154 3261163509']\n",
      "['7799999', '2944853618 5822528466 4109004905']\n",
      "['7899999', '2670719235 6166686648 6877515331']\n",
      "['7999999', '4550701833 7131826933 3682239629']\n",
      "['8099999', '1026362674 4422740040 8144620022']\n",
      "['8199999', '8101433606 9202265789 7124972955']\n",
      "['8299999', '3373384177 4888007728 2891975888']\n",
      "['8399999', '6678449099 8300411548 1050531238']\n",
      "['8499999', '7581612715 7156548164 8738666661']\n",
      "['8599999', '2960925768 2288442327 8494362805']\n"
     ]
    }
   ],
   "source": [
    "extract_regular_lines(folder, 'sample_submission.csv')"
   ]
  },
  {
   "cell_type": "code",
   "execution_count": 49,
   "metadata": {
    "collapsed": true
   },
   "outputs": [],
   "source": [
    "a=[2,5,4,6,8]"
   ]
  },
  {
   "cell_type": "code",
   "execution_count": 50,
   "metadata": {
    "collapsed": true
   },
   "outputs": [],
   "source": [
    "b=sorted(a)"
   ]
  },
  {
   "cell_type": "code",
   "execution_count": 53,
   "metadata": {
    "collapsed": false
   },
   "outputs": [
    {
     "data": {
      "text/plain": [
       "5"
      ]
     },
     "execution_count": 53,
     "metadata": {},
     "output_type": "execute_result"
    }
   ],
   "source": [
    "b.pop()"
   ]
  },
  {
   "cell_type": "code",
   "execution_count": null,
   "metadata": {
    "collapsed": true
   },
   "outputs": [],
   "source": []
  }
 ],
 "metadata": {
  "kernelspec": {
   "display_name": "Python 3",
   "language": "python",
   "name": "python3"
  },
  "language_info": {
   "codemirror_mode": {
    "name": "ipython",
    "version": 3
   },
   "file_extension": ".py",
   "mimetype": "text/x-python",
   "name": "python",
   "nbconvert_exporter": "python",
   "pygments_lexer": "ipython3",
   "version": "3.5.1"
  }
 },
 "nbformat": 4,
 "nbformat_minor": 0
}
